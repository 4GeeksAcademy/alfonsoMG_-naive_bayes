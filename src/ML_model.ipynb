{
    "cells": [
        {
            "cell_type": "markdown",
            "metadata": {},
            "source": [
                "# Import Libraries"
            ]
        },
        {
            "cell_type": "code",
            "execution_count": 1,
            "metadata": {},
            "outputs": [],
            "source": [
                "import requests\n",
                "import os\n",
                "import sklearn\n",
                "import pandas as pd\n",
                "from sklearn.model_selection import train_test_split\n",
                "from sklearn.feature_extraction.text import CountVectorizer\n",
                "from sklearn.naive_bayes import MultinomialNB, GaussianNB, BernoulliNB\n",
                "from pickle import dump\n",
                "from sklearn.metrics import accuracy_score\n",
                "import numpy as np \n",
                "from sklearn.model_selection import GridSearchCV, RandomizedSearchCV, cross_val_score\n",
                "import nltk\n",
                "from nltk.corpus import stopwords\n",
                "from sklearn.metrics import confusion_matrix, ConfusionMatrixDisplay\n",
                "import warnings\n"
            ]
        },
        {
            "cell_type": "markdown",
            "metadata": {},
            "source": [
                "# Import Data"
            ]
        },
        {
            "cell_type": "code",
            "execution_count": 2,
            "metadata": {},
            "outputs": [],
            "source": [
                "# URL del archivo CSV\n",
                "url = \"https://raw.githubusercontent.com/4GeeksAcademy/naive-bayes-project-tutorial/main/playstore_reviews.csv\"\n",
                "\n",
                "# Nombre del archivo de destino\n",
                "nombre_archivo = \"comments.csv\"\n",
                "\n",
                "# Ruta completa al directorio de trabajo\n",
                "directorio_trabajo = \"/workspaces/alfonsoMG_naive_bayes/data/raw/\"\n",
                "\n",
                "# Ruta completa al archivo CSV de destino\n",
                "ruta_archivo = os.path.join(directorio_trabajo, nombre_archivo)\n",
                "\n",
                "# Descargar el archivo CSV desde la URL\n",
                "response = requests.get(url)\n",
                "\n",
                "with open(ruta_archivo, 'wb') as f:\n",
                "    f.write(response.content)\n",
                "\n"
            ]
        },
        {
            "cell_type": "markdown",
            "metadata": {},
            "source": [
                "# DataSet Cleaning"
            ]
        },
        {
            "cell_type": "code",
            "execution_count": 3,
            "metadata": {},
            "outputs": [
                {
                    "data": {
                        "text/html": [
                            "<div>\n",
                            "<style scoped>\n",
                            "    .dataframe tbody tr th:only-of-type {\n",
                            "        vertical-align: middle;\n",
                            "    }\n",
                            "\n",
                            "    .dataframe tbody tr th {\n",
                            "        vertical-align: top;\n",
                            "    }\n",
                            "\n",
                            "    .dataframe thead th {\n",
                            "        text-align: right;\n",
                            "    }\n",
                            "</style>\n",
                            "<table border=\"1\" class=\"dataframe\">\n",
                            "  <thead>\n",
                            "    <tr style=\"text-align: right;\">\n",
                            "      <th></th>\n",
                            "      <th>package_name</th>\n",
                            "      <th>review</th>\n",
                            "      <th>polarity</th>\n",
                            "    </tr>\n",
                            "  </thead>\n",
                            "  <tbody>\n",
                            "    <tr>\n",
                            "      <th>0</th>\n",
                            "      <td>com.facebook.katana</td>\n",
                            "      <td>privacy at least put some option appear offli...</td>\n",
                            "      <td>0</td>\n",
                            "    </tr>\n",
                            "    <tr>\n",
                            "      <th>1</th>\n",
                            "      <td>com.facebook.katana</td>\n",
                            "      <td>messenger issues ever since the last update, ...</td>\n",
                            "      <td>0</td>\n",
                            "    </tr>\n",
                            "    <tr>\n",
                            "      <th>2</th>\n",
                            "      <td>com.facebook.katana</td>\n",
                            "      <td>profile any time my wife or anybody has more ...</td>\n",
                            "      <td>0</td>\n",
                            "    </tr>\n",
                            "    <tr>\n",
                            "      <th>3</th>\n",
                            "      <td>com.facebook.katana</td>\n",
                            "      <td>the new features suck for those of us who don...</td>\n",
                            "      <td>0</td>\n",
                            "    </tr>\n",
                            "    <tr>\n",
                            "      <th>4</th>\n",
                            "      <td>com.facebook.katana</td>\n",
                            "      <td>forced reload on uploading pic on replying co...</td>\n",
                            "      <td>0</td>\n",
                            "    </tr>\n",
                            "  </tbody>\n",
                            "</table>\n",
                            "</div>"
                        ],
                        "text/plain": [
                            "          package_name                                             review  \\\n",
                            "0  com.facebook.katana   privacy at least put some option appear offli...   \n",
                            "1  com.facebook.katana   messenger issues ever since the last update, ...   \n",
                            "2  com.facebook.katana   profile any time my wife or anybody has more ...   \n",
                            "3  com.facebook.katana   the new features suck for those of us who don...   \n",
                            "4  com.facebook.katana   forced reload on uploading pic on replying co...   \n",
                            "\n",
                            "   polarity  \n",
                            "0         0  \n",
                            "1         0  \n",
                            "2         0  \n",
                            "3         0  \n",
                            "4         0  "
                        ]
                    },
                    "execution_count": 3,
                    "metadata": {},
                    "output_type": "execute_result"
                }
            ],
            "source": [
                "csv_path = \"/workspaces/alfonsoMG_naive_bayes/data/raw/comments.csv\"\n",
                "\n",
                "df = pd.read_csv(csv_path)\n",
                "\n",
                "df.head()"
            ]
        },
        {
            "cell_type": "code",
            "execution_count": 4,
            "metadata": {},
            "outputs": [
                {
                    "data": {
                        "text/html": [
                            "<div>\n",
                            "<style scoped>\n",
                            "    .dataframe tbody tr th:only-of-type {\n",
                            "        vertical-align: middle;\n",
                            "    }\n",
                            "\n",
                            "    .dataframe tbody tr th {\n",
                            "        vertical-align: top;\n",
                            "    }\n",
                            "\n",
                            "    .dataframe thead th {\n",
                            "        text-align: right;\n",
                            "    }\n",
                            "</style>\n",
                            "<table border=\"1\" class=\"dataframe\">\n",
                            "  <thead>\n",
                            "    <tr style=\"text-align: right;\">\n",
                            "      <th></th>\n",
                            "      <th>review</th>\n",
                            "      <th>polarity</th>\n",
                            "    </tr>\n",
                            "  </thead>\n",
                            "  <tbody>\n",
                            "    <tr>\n",
                            "      <th>0</th>\n",
                            "      <td>privacy at least put some option appear offli...</td>\n",
                            "      <td>0</td>\n",
                            "    </tr>\n",
                            "    <tr>\n",
                            "      <th>1</th>\n",
                            "      <td>messenger issues ever since the last update, ...</td>\n",
                            "      <td>0</td>\n",
                            "    </tr>\n",
                            "    <tr>\n",
                            "      <th>2</th>\n",
                            "      <td>profile any time my wife or anybody has more ...</td>\n",
                            "      <td>0</td>\n",
                            "    </tr>\n",
                            "    <tr>\n",
                            "      <th>3</th>\n",
                            "      <td>the new features suck for those of us who don...</td>\n",
                            "      <td>0</td>\n",
                            "    </tr>\n",
                            "    <tr>\n",
                            "      <th>4</th>\n",
                            "      <td>forced reload on uploading pic on replying co...</td>\n",
                            "      <td>0</td>\n",
                            "    </tr>\n",
                            "  </tbody>\n",
                            "</table>\n",
                            "</div>"
                        ],
                        "text/plain": [
                            "                                              review  polarity\n",
                            "0   privacy at least put some option appear offli...         0\n",
                            "1   messenger issues ever since the last update, ...         0\n",
                            "2   profile any time my wife or anybody has more ...         0\n",
                            "3   the new features suck for those of us who don...         0\n",
                            "4   forced reload on uploading pic on replying co...         0"
                        ]
                    },
                    "execution_count": 4,
                    "metadata": {},
                    "output_type": "execute_result"
                }
            ],
            "source": [
                "df.drop(\"package_name\", axis = 1 , inplace = True)\n",
                "df.head()"
            ]
        },
        {
            "cell_type": "code",
            "execution_count": 5,
            "metadata": {},
            "outputs": [
                {
                    "data": {
                        "text/plain": [
                            "0     privacy least some option appear offline mean ...\n",
                            "1     messenger issues ever since last update initia...\n",
                            "2     profile time wife anybody more than post view ...\n",
                            "3     features suck those have working back button g...\n",
                            "4     forced reload uploading replying comment last ...\n",
                            "5     edit posts things such profile picture when ed...\n",
                            "6     major flaws constant updates always getting in...\n",
                            "7     video issues since forced into this update vid...\n",
                            "8     this update completely destroyed facebook load...\n",
                            "9     posting issues last week been ghost post feeds...\n",
                            "10    what heck status updates chronological order h...\n",
                            "11    suck time when want something error will come ...\n",
                            "12    connection issues everytime click link profile...\n",
                            "13    external links working after updated latest ve...\n",
                            "14    this please tried editing profile pictures pas...\n",
                            "15    buggy when edit post through mobile that post ...\n",
                            "16    connection issues always says refresh later wh...\n",
                            "17    back facebook email thats wrong password matte...\n",
                            "18    connect right when trying open links facebook ...\n",
                            "19    error cannot edit post with pictures moment wi...\n",
                            "20    whenever post update then edit when save tells...\n",
                            "21    keeps updating updates time slows phone doing ...\n",
                            "22    load everytime facebook well lately says troub...\n",
                            "23    wish posts popped order they were posted bumpe...\n",
                            "24    buggy reinstall several times issues editing u...\n",
                            "25    install error code have samsung galaxy note ed...\n",
                            "26    supported phon galaxy core have been face book...\n",
                            "27    work time update news feed says cannot connect...\n",
                            "28    should this work anymore know what because eve...\n",
                            "29    click into anything always tells check connect...\n",
                            "30    work every time sign says processes registrati...\n",
                            "31    showing news showing that someone responded co...\n",
                            "32    have uninstall this twice this week because wh...\n",
                            "33    profile issues samsung galaxy active every tim...\n",
                            "34    camera roll please stop camera roll popping pa...\n",
                            "35    good previous version much good than that text...\n",
                            "36    update uninstalls everytime update uninstalls ...\n",
                            "37    used good everything great until updated this ...\n",
                            "38    send read message from facebook because messag...\n",
                            "39    work after latest upgrade facebook refuses wor...\n",
                            "Name: review, dtype: object"
                        ]
                    },
                    "execution_count": 5,
                    "metadata": {},
                    "output_type": "execute_result"
                }
            ],
            "source": [
                "df[\"review\"] = df[\"review\"].str.lower().replace('[^\\w\\s\\']', ' ', regex=True).str.split().apply(lambda x: ' '.join(filter(lambda word: word.isalpha() and len(word) > 3, x)))\n",
                "df[\"review\"].head(40) "
            ]
        },
        {
            "cell_type": "markdown",
            "metadata": {},
            "source": [
                "# Train/Test Split"
            ]
        },
        {
            "cell_type": "code",
            "execution_count": 6,
            "metadata": {},
            "outputs": [
                {
                    "data": {
                        "text/plain": [
                            "68     after observation above things should hated th...\n",
                            "768                                    errors bugs error\n",
                            "722    still cool guys please this still cool after t...\n",
                            "94     facebook ripoff used connections connections n...\n",
                            "640    many useless features does anybody actually sp...\n",
                            "Name: review, dtype: object"
                        ]
                    },
                    "execution_count": 6,
                    "metadata": {},
                    "output_type": "execute_result"
                }
            ],
            "source": [
                "X = df[\"review\"]\n",
                "y = df[\"polarity\"]\n",
                "\n",
                "X_train, X_test, y_train, y_test = train_test_split(X, y, test_size = 0.2, random_state = 24)\n",
                "X_train.head()"
            ]
        },
        {
            "cell_type": "code",
            "execution_count": 7,
            "metadata": {},
            "outputs": [],
            "source": [
                "X_train.to_csv(\"/workspaces/alfonsoMG_naive_bayes/data/processed/X_train.csv\")\n",
                "X_test.to_csv(\"/workspaces/alfonsoMG_naive_bayes/data/processed/X_test.csv\")\n",
                "y_train.to_csv(\"/workspaces/alfonsoMG_naive_bayes/data/processed/y_train.csv\")\n",
                "y_test.to_csv(\"/workspaces/alfonsoMG_naive_bayes/data/processed/y_test.csv\")"
            ]
        },
        {
            "cell_type": "code",
            "execution_count": 8,
            "metadata": {},
            "outputs": [
                {
                    "name": "stderr",
                    "output_type": "stream",
                    "text": [
                        "[nltk_data] Downloading package stopwords to /home/vscode/nltk_data...\n",
                        "[nltk_data]   Package stopwords is already up-to-date!\n"
                    ]
                }
            ],
            "source": [
                "nltk.download('stopwords')\n",
                "stop_words = list(stopwords.words('english'))"
            ]
        },
        {
            "cell_type": "code",
            "execution_count": 9,
            "metadata": {},
            "outputs": [],
            "source": [
                "vec_model = CountVectorizer(stop_words = stop_words)\n",
                "X_train = vec_model.fit_transform(X_train).toarray()\n",
                "X_test = vec_model.transform(X_test).toarray()"
            ]
        },
        {
            "cell_type": "code",
            "execution_count": 10,
            "metadata": {},
            "outputs": [
                {
                    "name": "stdout",
                    "output_type": "stream",
                    "text": [
                        "Gaussian Train Accuracy: 0.9817415730337079\n",
                        "Gaussian Test Accuracy: 0.7486033519553073\n",
                        "Gaussian Accuracy Difference: 0.23313822107840065\n",
                        "\n",
                        "Multinomial Train Accuracy: 0.9592696629213483\n",
                        "Multinomial Test Accuracy: 0.8212290502793296\n",
                        "Multinomial Accuracy Difference: 0.13804061264201872\n",
                        "\n",
                        "Bernoulli Train Accuracy: 0.9143258426966292\n",
                        "Bernoulli Test Accuracy: 0.7430167597765364\n",
                        "Bernoulli Accuracy Difference: 0.17130908292009284\n",
                        "\n",
                        "The best model is: Multinomial with the smallest difference (0.1380) between train and test accuracy.\n"
                    ]
                }
            ],
            "source": [
                "models = [\n",
                "    (GaussianNB(), \"Gaussian\"),\n",
                "    (MultinomialNB(), \"Multinomial\"),\n",
                "    (BernoulliNB(), \"Bernoulli\")\n",
                "]\n",
                "\n",
                "min_difference = float('inf')\n",
                "best_model_name = ''\n",
                "\n",
                "for model, name in models:\n",
                "    model.fit(X_train, y_train)\n",
                "    \n",
                "    model_file = f\"/workspaces/alfonsoMG_naive_bayes/models/model_{name.lower()}.pk\"\n",
                "    dump(model, open(model_file, \"wb\"))\n",
                "\n",
                "    y_pred_train = model.predict(X_train)\n",
                "    train_accuracy = accuracy_score(y_train, y_pred_train)\n",
                "    print(f\"{name} Train Accuracy: {train_accuracy}\")\n",
                "\n",
                "    y_pred_test = model.predict(X_test)\n",
                "    test_accuracy = accuracy_score(y_test, y_pred_test)\n",
                "    print(f\"{name} Test Accuracy: {test_accuracy}\")\n",
                "\n",
                "    accuracy_difference = abs(train_accuracy - test_accuracy)\n",
                "    print(f\"{name} Accuracy Difference: {accuracy_difference}\\n\")\n",
                "\n",
                "    if accuracy_difference < min_difference:\n",
                "        min_difference = accuracy_difference\n",
                "        best_model_name = name\n",
                "\n",
                "print(f\"The best model is: {best_model_name} with the smallest difference ({min_difference:.4f}) between train and test accuracy.\")"
            ]
        },
        {
            "cell_type": "code",
            "execution_count": 11,
            "metadata": {},
            "outputs": [],
            "source": [
                "hyperparams = {\n",
                "    \"alpha\": [0] + list(np.arange(1.0, 10, 0.1)),  # Asegurarse de que se incluya 0 y utilizar un paso más pequeño\n",
                "    \"fit_prior\": [True, False],\n",
                "}"
            ]
        },
        {
            "cell_type": "code",
            "execution_count": 12,
            "metadata": {},
            "outputs": [
                {
                    "name": "stderr",
                    "output_type": "stream",
                    "text": [
                        "/home/vscode/.local/lib/python3.11/site-packages/sklearn/naive_bayes.py:624: FutureWarning: The default value for `force_alpha` will change to `True` in 1.4. To suppress this warning, manually set the value of `force_alpha`.\n",
                        "  warnings.warn(\n",
                        "/home/vscode/.local/lib/python3.11/site-packages/sklearn/naive_bayes.py:633: UserWarning: alpha too small will result in numeric errors, setting alpha = 1.0e-10. Use `force_alpha=True` to keep alpha unchanged.\n",
                        "  warnings.warn(\n",
                        "/home/vscode/.local/lib/python3.11/site-packages/sklearn/naive_bayes.py:624: FutureWarning: The default value for `force_alpha` will change to `True` in 1.4. To suppress this warning, manually set the value of `force_alpha`.\n",
                        "  warnings.warn(\n",
                        "/home/vscode/.local/lib/python3.11/site-packages/sklearn/naive_bayes.py:633: UserWarning: alpha too small will result in numeric errors, setting alpha = 1.0e-10. Use `force_alpha=True` to keep alpha unchanged.\n",
                        "  warnings.warn(\n",
                        "/home/vscode/.local/lib/python3.11/site-packages/sklearn/naive_bayes.py:624: FutureWarning: The default value for `force_alpha` will change to `True` in 1.4. To suppress this warning, manually set the value of `force_alpha`.\n",
                        "  warnings.warn(\n",
                        "/home/vscode/.local/lib/python3.11/site-packages/sklearn/naive_bayes.py:633: UserWarning: alpha too small will result in numeric errors, setting alpha = 1.0e-10. Use `force_alpha=True` to keep alpha unchanged.\n",
                        "  warnings.warn(\n",
                        "/home/vscode/.local/lib/python3.11/site-packages/sklearn/naive_bayes.py:624: FutureWarning: The default value for `force_alpha` will change to `True` in 1.4. To suppress this warning, manually set the value of `force_alpha`.\n",
                        "  warnings.warn(\n",
                        "/home/vscode/.local/lib/python3.11/site-packages/sklearn/naive_bayes.py:633: UserWarning: alpha too small will result in numeric errors, setting alpha = 1.0e-10. Use `force_alpha=True` to keep alpha unchanged.\n",
                        "  warnings.warn(\n",
                        "/home/vscode/.local/lib/python3.11/site-packages/sklearn/naive_bayes.py:624: FutureWarning: The default value for `force_alpha` will change to `True` in 1.4. To suppress this warning, manually set the value of `force_alpha`.\n",
                        "  warnings.warn(\n",
                        "/home/vscode/.local/lib/python3.11/site-packages/sklearn/naive_bayes.py:633: UserWarning: alpha too small will result in numeric errors, setting alpha = 1.0e-10. Use `force_alpha=True` to keep alpha unchanged.\n",
                        "  warnings.warn(\n",
                        "/home/vscode/.local/lib/python3.11/site-packages/sklearn/naive_bayes.py:624: FutureWarning: The default value for `force_alpha` will change to `True` in 1.4. To suppress this warning, manually set the value of `force_alpha`.\n",
                        "  warnings.warn(\n",
                        "/home/vscode/.local/lib/python3.11/site-packages/sklearn/naive_bayes.py:633: UserWarning: alpha too small will result in numeric errors, setting alpha = 1.0e-10. Use `force_alpha=True` to keep alpha unchanged.\n",
                        "  warnings.warn(\n",
                        "/home/vscode/.local/lib/python3.11/site-packages/sklearn/naive_bayes.py:624: FutureWarning: The default value for `force_alpha` will change to `True` in 1.4. To suppress this warning, manually set the value of `force_alpha`.\n",
                        "  warnings.warn(\n",
                        "/home/vscode/.local/lib/python3.11/site-packages/sklearn/naive_bayes.py:633: UserWarning: alpha too small will result in numeric errors, setting alpha = 1.0e-10. Use `force_alpha=True` to keep alpha unchanged.\n",
                        "  warnings.warn(\n",
                        "/home/vscode/.local/lib/python3.11/site-packages/sklearn/naive_bayes.py:624: FutureWarning: The default value for `force_alpha` will change to `True` in 1.4. To suppress this warning, manually set the value of `force_alpha`.\n",
                        "  warnings.warn(\n",
                        "/home/vscode/.local/lib/python3.11/site-packages/sklearn/naive_bayes.py:633: UserWarning: alpha too small will result in numeric errors, setting alpha = 1.0e-10. Use `force_alpha=True` to keep alpha unchanged.\n",
                        "  warnings.warn(\n",
                        "/home/vscode/.local/lib/python3.11/site-packages/sklearn/naive_bayes.py:624: FutureWarning: The default value for `force_alpha` will change to `True` in 1.4. To suppress this warning, manually set the value of `force_alpha`.\n",
                        "  warnings.warn(\n",
                        "/home/vscode/.local/lib/python3.11/site-packages/sklearn/naive_bayes.py:633: UserWarning: alpha too small will result in numeric errors, setting alpha = 1.0e-10. Use `force_alpha=True` to keep alpha unchanged.\n",
                        "  warnings.warn(\n",
                        "/home/vscode/.local/lib/python3.11/site-packages/sklearn/naive_bayes.py:624: FutureWarning: The default value for `force_alpha` will change to `True` in 1.4. To suppress this warning, manually set the value of `force_alpha`.\n",
                        "  warnings.warn(\n",
                        "/home/vscode/.local/lib/python3.11/site-packages/sklearn/naive_bayes.py:633: UserWarning: alpha too small will result in numeric errors, setting alpha = 1.0e-10. Use `force_alpha=True` to keep alpha unchanged.\n",
                        "  warnings.warn(\n"
                    ]
                },
                {
                    "data": {
                        "text/html": [
                            "<style>#sk-container-id-1 {color: black;}#sk-container-id-1 pre{padding: 0;}#sk-container-id-1 div.sk-toggleable {background-color: white;}#sk-container-id-1 label.sk-toggleable__label {cursor: pointer;display: block;width: 100%;margin-bottom: 0;padding: 0.3em;box-sizing: border-box;text-align: center;}#sk-container-id-1 label.sk-toggleable__label-arrow:before {content: \"▸\";float: left;margin-right: 0.25em;color: #696969;}#sk-container-id-1 label.sk-toggleable__label-arrow:hover:before {color: black;}#sk-container-id-1 div.sk-estimator:hover label.sk-toggleable__label-arrow:before {color: black;}#sk-container-id-1 div.sk-toggleable__content {max-height: 0;max-width: 0;overflow: hidden;text-align: left;background-color: #f0f8ff;}#sk-container-id-1 div.sk-toggleable__content pre {margin: 0.2em;color: black;border-radius: 0.25em;background-color: #f0f8ff;}#sk-container-id-1 input.sk-toggleable__control:checked~div.sk-toggleable__content {max-height: 200px;max-width: 100%;overflow: auto;}#sk-container-id-1 input.sk-toggleable__control:checked~label.sk-toggleable__label-arrow:before {content: \"▾\";}#sk-container-id-1 div.sk-estimator input.sk-toggleable__control:checked~label.sk-toggleable__label {background-color: #d4ebff;}#sk-container-id-1 div.sk-label input.sk-toggleable__control:checked~label.sk-toggleable__label {background-color: #d4ebff;}#sk-container-id-1 input.sk-hidden--visually {border: 0;clip: rect(1px 1px 1px 1px);clip: rect(1px, 1px, 1px, 1px);height: 1px;margin: -1px;overflow: hidden;padding: 0;position: absolute;width: 1px;}#sk-container-id-1 div.sk-estimator {font-family: monospace;background-color: #f0f8ff;border: 1px dotted black;border-radius: 0.25em;box-sizing: border-box;margin-bottom: 0.5em;}#sk-container-id-1 div.sk-estimator:hover {background-color: #d4ebff;}#sk-container-id-1 div.sk-parallel-item::after {content: \"\";width: 100%;border-bottom: 1px solid gray;flex-grow: 1;}#sk-container-id-1 div.sk-label:hover label.sk-toggleable__label {background-color: #d4ebff;}#sk-container-id-1 div.sk-serial::before {content: \"\";position: absolute;border-left: 1px solid gray;box-sizing: border-box;top: 0;bottom: 0;left: 50%;z-index: 0;}#sk-container-id-1 div.sk-serial {display: flex;flex-direction: column;align-items: center;background-color: white;padding-right: 0.2em;padding-left: 0.2em;position: relative;}#sk-container-id-1 div.sk-item {position: relative;z-index: 1;}#sk-container-id-1 div.sk-parallel {display: flex;align-items: stretch;justify-content: center;background-color: white;position: relative;}#sk-container-id-1 div.sk-item::before, #sk-container-id-1 div.sk-parallel-item::before {content: \"\";position: absolute;border-left: 1px solid gray;box-sizing: border-box;top: 0;bottom: 0;left: 50%;z-index: -1;}#sk-container-id-1 div.sk-parallel-item {display: flex;flex-direction: column;z-index: 1;position: relative;background-color: white;}#sk-container-id-1 div.sk-parallel-item:first-child::after {align-self: flex-end;width: 50%;}#sk-container-id-1 div.sk-parallel-item:last-child::after {align-self: flex-start;width: 50%;}#sk-container-id-1 div.sk-parallel-item:only-child::after {width: 0;}#sk-container-id-1 div.sk-dashed-wrapped {border: 1px dashed gray;margin: 0 0.4em 0.5em 0.4em;box-sizing: border-box;padding-bottom: 0.4em;background-color: white;}#sk-container-id-1 div.sk-label label {font-family: monospace;font-weight: bold;display: inline-block;line-height: 1.2em;}#sk-container-id-1 div.sk-label-container {text-align: center;}#sk-container-id-1 div.sk-container {/* jupyter's `normalize.less` sets `[hidden] { display: none; }` but bootstrap.min.css set `[hidden] { display: none !important; }` so we also need the `!important` here to be able to override the default hidden behavior on the sphinx rendered scikit-learn.org. See: https://github.com/scikit-learn/scikit-learn/issues/21755 */display: inline-block !important;position: relative;}#sk-container-id-1 div.sk-text-repr-fallback {display: none;}</style><div id=\"sk-container-id-1\" class=\"sk-top-container\"><div class=\"sk-text-repr-fallback\"><pre>GridSearchCV(cv=5, estimator=MultinomialNB(),\n",
                            "             param_grid={&#x27;alpha&#x27;: [0, 1.0, 1.1, 1.2000000000000002,\n",
                            "                                   1.3000000000000003, 1.4000000000000004,\n",
                            "                                   1.5000000000000004, 1.6000000000000005,\n",
                            "                                   1.7000000000000006, 1.8000000000000007,\n",
                            "                                   1.9000000000000008, 2.000000000000001,\n",
                            "                                   2.100000000000001, 2.200000000000001,\n",
                            "                                   2.300000000000001, 2.4000000000000012,\n",
                            "                                   2.5000000000000013, 2.6000000000000014,\n",
                            "                                   2.7000000000000015, 2.8000000000000016,\n",
                            "                                   2.9000000000000017, 3.0000000000000018,\n",
                            "                                   3.100000000000002, 3.200000000000002,\n",
                            "                                   3.300000000000002, 3.400000000000002,\n",
                            "                                   3.500000000000002, 3.6000000000000023,\n",
                            "                                   3.7000000000000024, 3.8000000000000025, ...],\n",
                            "                         &#x27;fit_prior&#x27;: [True, False]},\n",
                            "             scoring=&#x27;accuracy&#x27;)</pre><b>In a Jupyter environment, please rerun this cell to show the HTML representation or trust the notebook. <br />On GitHub, the HTML representation is unable to render, please try loading this page with nbviewer.org.</b></div><div class=\"sk-container\" hidden><div class=\"sk-item sk-dashed-wrapped\"><div class=\"sk-label-container\"><div class=\"sk-label sk-toggleable\"><input class=\"sk-toggleable__control sk-hidden--visually\" id=\"sk-estimator-id-1\" type=\"checkbox\" ><label for=\"sk-estimator-id-1\" class=\"sk-toggleable__label sk-toggleable__label-arrow\">GridSearchCV</label><div class=\"sk-toggleable__content\"><pre>GridSearchCV(cv=5, estimator=MultinomialNB(),\n",
                            "             param_grid={&#x27;alpha&#x27;: [0, 1.0, 1.1, 1.2000000000000002,\n",
                            "                                   1.3000000000000003, 1.4000000000000004,\n",
                            "                                   1.5000000000000004, 1.6000000000000005,\n",
                            "                                   1.7000000000000006, 1.8000000000000007,\n",
                            "                                   1.9000000000000008, 2.000000000000001,\n",
                            "                                   2.100000000000001, 2.200000000000001,\n",
                            "                                   2.300000000000001, 2.4000000000000012,\n",
                            "                                   2.5000000000000013, 2.6000000000000014,\n",
                            "                                   2.7000000000000015, 2.8000000000000016,\n",
                            "                                   2.9000000000000017, 3.0000000000000018,\n",
                            "                                   3.100000000000002, 3.200000000000002,\n",
                            "                                   3.300000000000002, 3.400000000000002,\n",
                            "                                   3.500000000000002, 3.6000000000000023,\n",
                            "                                   3.7000000000000024, 3.8000000000000025, ...],\n",
                            "                         &#x27;fit_prior&#x27;: [True, False]},\n",
                            "             scoring=&#x27;accuracy&#x27;)</pre></div></div></div><div class=\"sk-parallel\"><div class=\"sk-parallel-item\"><div class=\"sk-item\"><div class=\"sk-label-container\"><div class=\"sk-label sk-toggleable\"><input class=\"sk-toggleable__control sk-hidden--visually\" id=\"sk-estimator-id-2\" type=\"checkbox\" ><label for=\"sk-estimator-id-2\" class=\"sk-toggleable__label sk-toggleable__label-arrow\">estimator: MultinomialNB</label><div class=\"sk-toggleable__content\"><pre>MultinomialNB()</pre></div></div></div><div class=\"sk-serial\"><div class=\"sk-item\"><div class=\"sk-estimator sk-toggleable\"><input class=\"sk-toggleable__control sk-hidden--visually\" id=\"sk-estimator-id-3\" type=\"checkbox\" ><label for=\"sk-estimator-id-3\" class=\"sk-toggleable__label sk-toggleable__label-arrow\">MultinomialNB</label><div class=\"sk-toggleable__content\"><pre>MultinomialNB()</pre></div></div></div></div></div></div></div></div></div></div>"
                        ],
                        "text/plain": [
                            "GridSearchCV(cv=5, estimator=MultinomialNB(),\n",
                            "             param_grid={'alpha': [0, 1.0, 1.1, 1.2000000000000002,\n",
                            "                                   1.3000000000000003, 1.4000000000000004,\n",
                            "                                   1.5000000000000004, 1.6000000000000005,\n",
                            "                                   1.7000000000000006, 1.8000000000000007,\n",
                            "                                   1.9000000000000008, 2.000000000000001,\n",
                            "                                   2.100000000000001, 2.200000000000001,\n",
                            "                                   2.300000000000001, 2.4000000000000012,\n",
                            "                                   2.5000000000000013, 2.6000000000000014,\n",
                            "                                   2.7000000000000015, 2.8000000000000016,\n",
                            "                                   2.9000000000000017, 3.0000000000000018,\n",
                            "                                   3.100000000000002, 3.200000000000002,\n",
                            "                                   3.300000000000002, 3.400000000000002,\n",
                            "                                   3.500000000000002, 3.6000000000000023,\n",
                            "                                   3.7000000000000024, 3.8000000000000025, ...],\n",
                            "                         'fit_prior': [True, False]},\n",
                            "             scoring='accuracy')"
                        ]
                    },
                    "execution_count": 12,
                    "metadata": {},
                    "output_type": "execute_result"
                }
            ],
            "source": [
                "multinomial = MultinomialNB()\n",
                "grid = GridSearchCV(multinomial, hyperparams, scoring = 'accuracy', cv = 5)\n",
                "grid.fit(X_train, y_train)\n"
            ]
        },
        {
            "cell_type": "code",
            "execution_count": 13,
            "metadata": {},
            "outputs": [
                {
                    "data": {
                        "text/html": [
                            "<style>#sk-container-id-2 {color: black;}#sk-container-id-2 pre{padding: 0;}#sk-container-id-2 div.sk-toggleable {background-color: white;}#sk-container-id-2 label.sk-toggleable__label {cursor: pointer;display: block;width: 100%;margin-bottom: 0;padding: 0.3em;box-sizing: border-box;text-align: center;}#sk-container-id-2 label.sk-toggleable__label-arrow:before {content: \"▸\";float: left;margin-right: 0.25em;color: #696969;}#sk-container-id-2 label.sk-toggleable__label-arrow:hover:before {color: black;}#sk-container-id-2 div.sk-estimator:hover label.sk-toggleable__label-arrow:before {color: black;}#sk-container-id-2 div.sk-toggleable__content {max-height: 0;max-width: 0;overflow: hidden;text-align: left;background-color: #f0f8ff;}#sk-container-id-2 div.sk-toggleable__content pre {margin: 0.2em;color: black;border-radius: 0.25em;background-color: #f0f8ff;}#sk-container-id-2 input.sk-toggleable__control:checked~div.sk-toggleable__content {max-height: 200px;max-width: 100%;overflow: auto;}#sk-container-id-2 input.sk-toggleable__control:checked~label.sk-toggleable__label-arrow:before {content: \"▾\";}#sk-container-id-2 div.sk-estimator input.sk-toggleable__control:checked~label.sk-toggleable__label {background-color: #d4ebff;}#sk-container-id-2 div.sk-label input.sk-toggleable__control:checked~label.sk-toggleable__label {background-color: #d4ebff;}#sk-container-id-2 input.sk-hidden--visually {border: 0;clip: rect(1px 1px 1px 1px);clip: rect(1px, 1px, 1px, 1px);height: 1px;margin: -1px;overflow: hidden;padding: 0;position: absolute;width: 1px;}#sk-container-id-2 div.sk-estimator {font-family: monospace;background-color: #f0f8ff;border: 1px dotted black;border-radius: 0.25em;box-sizing: border-box;margin-bottom: 0.5em;}#sk-container-id-2 div.sk-estimator:hover {background-color: #d4ebff;}#sk-container-id-2 div.sk-parallel-item::after {content: \"\";width: 100%;border-bottom: 1px solid gray;flex-grow: 1;}#sk-container-id-2 div.sk-label:hover label.sk-toggleable__label {background-color: #d4ebff;}#sk-container-id-2 div.sk-serial::before {content: \"\";position: absolute;border-left: 1px solid gray;box-sizing: border-box;top: 0;bottom: 0;left: 50%;z-index: 0;}#sk-container-id-2 div.sk-serial {display: flex;flex-direction: column;align-items: center;background-color: white;padding-right: 0.2em;padding-left: 0.2em;position: relative;}#sk-container-id-2 div.sk-item {position: relative;z-index: 1;}#sk-container-id-2 div.sk-parallel {display: flex;align-items: stretch;justify-content: center;background-color: white;position: relative;}#sk-container-id-2 div.sk-item::before, #sk-container-id-2 div.sk-parallel-item::before {content: \"\";position: absolute;border-left: 1px solid gray;box-sizing: border-box;top: 0;bottom: 0;left: 50%;z-index: -1;}#sk-container-id-2 div.sk-parallel-item {display: flex;flex-direction: column;z-index: 1;position: relative;background-color: white;}#sk-container-id-2 div.sk-parallel-item:first-child::after {align-self: flex-end;width: 50%;}#sk-container-id-2 div.sk-parallel-item:last-child::after {align-self: flex-start;width: 50%;}#sk-container-id-2 div.sk-parallel-item:only-child::after {width: 0;}#sk-container-id-2 div.sk-dashed-wrapped {border: 1px dashed gray;margin: 0 0.4em 0.5em 0.4em;box-sizing: border-box;padding-bottom: 0.4em;background-color: white;}#sk-container-id-2 div.sk-label label {font-family: monospace;font-weight: bold;display: inline-block;line-height: 1.2em;}#sk-container-id-2 div.sk-label-container {text-align: center;}#sk-container-id-2 div.sk-container {/* jupyter's `normalize.less` sets `[hidden] { display: none; }` but bootstrap.min.css set `[hidden] { display: none !important; }` so we also need the `!important` here to be able to override the default hidden behavior on the sphinx rendered scikit-learn.org. See: https://github.com/scikit-learn/scikit-learn/issues/21755 */display: inline-block !important;position: relative;}#sk-container-id-2 div.sk-text-repr-fallback {display: none;}</style><div id=\"sk-container-id-2\" class=\"sk-top-container\"><div class=\"sk-text-repr-fallback\"><pre>MultinomialNB(alpha=3.400000000000002, fit_prior=False)</pre><b>In a Jupyter environment, please rerun this cell to show the HTML representation or trust the notebook. <br />On GitHub, the HTML representation is unable to render, please try loading this page with nbviewer.org.</b></div><div class=\"sk-container\" hidden><div class=\"sk-item\"><div class=\"sk-estimator sk-toggleable\"><input class=\"sk-toggleable__control sk-hidden--visually\" id=\"sk-estimator-id-4\" type=\"checkbox\" checked><label for=\"sk-estimator-id-4\" class=\"sk-toggleable__label sk-toggleable__label-arrow\">MultinomialNB</label><div class=\"sk-toggleable__content\"><pre>MultinomialNB(alpha=3.400000000000002, fit_prior=False)</pre></div></div></div></div></div>"
                        ],
                        "text/plain": [
                            "MultinomialNB(alpha=3.400000000000002, fit_prior=False)"
                        ]
                    },
                    "execution_count": 13,
                    "metadata": {},
                    "output_type": "execute_result"
                }
            ],
            "source": [
                "best_hyper = grid.best_params_ \n",
                "best_model = MultinomialNB(**best_hyper)\n",
                "best_model.fit(X_train, y_train)"
            ]
        },
        {
            "cell_type": "code",
            "execution_count": 14,
            "metadata": {},
            "outputs": [
                {
                    "name": "stdout",
                    "output_type": "stream",
                    "text": [
                        "The accuracy score for Train is : 0.9283707865168539\n",
                        "The accuracy score for Test is : 0.8324022346368715\n",
                        "Train/Test difference: 0.09596855187998243\n"
                    ]
                }
            ],
            "source": [
                "y_pred = best_model.predict(X_train)\n",
                "train_score = accuracy_score(y_train, y_pred)\n",
                "\n",
                "y_pred = best_model.predict(X_test)\n",
                "test_score = accuracy_score(y_test, y_pred)\n",
                "\n",
                "print(f\"The accuracy score for Train is : {train_score}\")\n",
                "print(f\"The accuracy score for Test is : {test_score}\")\n",
                "print(f\"Train/Test difference: {train_score - test_score}\")"
            ]
        },
        {
            "cell_type": "code",
            "execution_count": 15,
            "metadata": {},
            "outputs": [
                {
                    "data": {
                        "text/plain": [
                            "<sklearn.metrics._plot.confusion_matrix.ConfusionMatrixDisplay at 0x7f7c42404b50>"
                        ]
                    },
                    "execution_count": 15,
                    "metadata": {},
                    "output_type": "execute_result"
                },
                {
                    "data": {
                        "image/png": "[encoded data removed]",
                        "text/plain": [
                            "<Figure size 640x480 with 2 Axes>"
                        ]
                    },
                    "metadata": {},
                    "output_type": "display_data"
                }
            ],
            "source": [
                "# Calcular la matriz de confusión\n",
                "cm = confusion_matrix(y_test, y_pred)\n",
                "\n",
                "# Visualizar la matriz de confusión\n",
                "disp = ConfusionMatrixDisplay(confusion_matrix=cm, display_labels=model.classes_)\n",
                "disp.plot()"
            ]
        },
        {
            "cell_type": "code",
            "execution_count": 16,
            "metadata": {},
            "outputs": [],
            "source": [
                "hyperparams = {\n",
                "    \"alpha\": [0] + list(np.arange(1.0, 100, 0.1)),  # Asegurarse de que se incluya 0 y utilizar un paso más pequeño\n",
                "    \"fit_prior\": [True, False],\n",
                "    \"class_prior\": [None, np.linspace(0.1, 1, 10)]\n",
                "}"
            ]
        },
        {
            "cell_type": "code",
            "execution_count": 17,
            "metadata": {},
            "outputs": [],
            "source": [
                "# Desactivar FutureWarnings específicos\n",
                "warnings.simplefilter(action='ignore', category=FutureWarning)\n",
                "\n",
                "# Desactivar UserWarnings específicos\n",
                "warnings.simplefilter(action='ignore', category=UserWarning)\n",
                "\n",
                "\n",
                "warnings.filterwarnings(\"ignore\", category=sklearn.exceptions.FitFailedWarning)"
            ]
        },
        {
            "cell_type": "code",
            "execution_count": 19,
            "metadata": {},
            "outputs": [
                {
                    "name": "stdout",
                    "output_type": "stream",
                    "text": [
                        "Iteration 1 - Mejores hiperparámetros: {'fit_prior': False, 'class_prior': None, 'alpha': 4.800000000000003}\n",
                        "Iteration 2 - Mejores hiperparámetros: {'fit_prior': True, 'class_prior': None, 'alpha': 2.100000000000001}\n",
                        "Iteration 3 - Mejores hiperparámetros: {'fit_prior': False, 'class_prior': None, 'alpha': 4.600000000000003}\n",
                        "Iteration 4 - Mejores hiperparámetros: {'fit_prior': False, 'class_prior': None, 'alpha': 9.200000000000006}\n",
                        "Iteration 5 - Mejores hiperparámetros: {'fit_prior': False, 'class_prior': None, 'alpha': 6.100000000000005}\n",
                        "Iteration 6 - Mejores hiperparámetros: {'fit_prior': False, 'class_prior': None, 'alpha': 5.300000000000004}\n",
                        "Iteration 7 - Mejores hiperparámetros: {'fit_prior': False, 'class_prior': None, 'alpha': 5.700000000000005}\n",
                        "Iteration 8 - Mejores hiperparámetros: {'fit_prior': True, 'class_prior': None, 'alpha': 2.4000000000000012}\n",
                        "Iteration 9 - Mejores hiperparámetros: {'fit_prior': False, 'class_prior': None, 'alpha': 5.700000000000005}\n",
                        "Iteration 10 - Mejores hiperparámetros: {'fit_prior': False, 'class_prior': None, 'alpha': 17.300000000000015}\n",
                        "Iteration 11 - Mejores hiperparámetros: {'fit_prior': True, 'class_prior': None, 'alpha': 2.100000000000001}\n",
                        "Iteration 12 - Mejores hiperparámetros: {'fit_prior': False, 'class_prior': None, 'alpha': 7.100000000000005}\n",
                        "Iteration 13 - Mejores hiperparámetros: {'fit_prior': True, 'class_prior': None, 'alpha': 2.000000000000001}\n",
                        "Iteration 14 - Mejores hiperparámetros: {'fit_prior': False, 'class_prior': None, 'alpha': 17.900000000000016}\n",
                        "Iteration 15 - Mejores hiperparámetros: {'fit_prior': True, 'class_prior': None, 'alpha': 2.200000000000001}\n",
                        "Iteration 16 - Mejores hiperparámetros: {'fit_prior': False, 'class_prior': None, 'alpha': 4.000000000000003}\n",
                        "Iteration 17 - Mejores hiperparámetros: {'fit_prior': False, 'class_prior': None, 'alpha': 2.8000000000000016}\n",
                        "Iteration 18 - Mejores hiperparámetros: {'fit_prior': True, 'class_prior': None, 'alpha': 2.200000000000001}\n",
                        "Iteration 19 - Mejores hiperparámetros: {'fit_prior': False, 'class_prior': None, 'alpha': 3.9000000000000026}\n",
                        "Iteration 20 - Mejores hiperparámetros: {'fit_prior': False, 'class_prior': None, 'alpha': 17.900000000000016}\n",
                        "Iteration 21 - Mejores hiperparámetros: {'fit_prior': False, 'class_prior': None, 'alpha': 4.200000000000003}\n",
                        "Iteration 22 - Mejores hiperparámetros: {'fit_prior': False, 'class_prior': None, 'alpha': 9.200000000000006}\n",
                        "Iteration 23 - Mejores hiperparámetros: {'fit_prior': False, 'class_prior': None, 'alpha': 9.400000000000007}\n",
                        "Iteration 24 - Mejores hiperparámetros: {'fit_prior': False, 'class_prior': None, 'alpha': 6.800000000000005}\n",
                        "Iteration 25 - Mejores hiperparámetros: {'fit_prior': True, 'class_prior': None, 'alpha': 2.200000000000001}\n",
                        "Iteration 26 - Mejores hiperparámetros: {'fit_prior': False, 'class_prior': None, 'alpha': 9.400000000000007}\n",
                        "Iteration 27 - Mejores hiperparámetros: {'fit_prior': False, 'class_prior': None, 'alpha': 2.000000000000001}\n",
                        "Iteration 28 - Mejores hiperparámetros: {'fit_prior': False, 'class_prior': None, 'alpha': 2.8000000000000016}\n",
                        "Iteration 29 - Mejores hiperparámetros: {'fit_prior': False, 'class_prior': None, 'alpha': 8.200000000000006}\n",
                        "Iteration 30 - Mejores hiperparámetros: {'fit_prior': False, 'class_prior': None, 'alpha': 11.600000000000009}\n",
                        "Iteration 31 - Mejores hiperparámetros: {'fit_prior': False, 'class_prior': None, 'alpha': 4.3000000000000025}\n",
                        "Iteration 32 - Mejores hiperparámetros: {'fit_prior': False, 'class_prior': None, 'alpha': 18.500000000000014}\n",
                        "Iteration 33 - Mejores hiperparámetros: {'fit_prior': False, 'class_prior': None, 'alpha': 3.8000000000000025}\n",
                        "Iteration 34 - Mejores hiperparámetros: {'fit_prior': False, 'class_prior': None, 'alpha': 1.2000000000000002}\n",
                        "Iteration 35 - Mejores hiperparámetros: {'fit_prior': False, 'class_prior': None, 'alpha': 2.000000000000001}\n",
                        "Iteration 36 - Mejores hiperparámetros: {'fit_prior': False, 'class_prior': None, 'alpha': 9.200000000000006}\n",
                        "Iteration 37 - Mejores hiperparámetros: {'fit_prior': False, 'class_prior': None, 'alpha': 2.8000000000000016}\n",
                        "Iteration 38 - Mejores hiperparámetros: {'fit_prior': True, 'class_prior': None, 'alpha': 2.200000000000001}\n",
                        "Iteration 39 - Mejores hiperparámetros: {'fit_prior': False, 'class_prior': None, 'alpha': 12.10000000000001}\n",
                        "Iteration 40 - Mejores hiperparámetros: {'fit_prior': True, 'class_prior': None, 'alpha': 2.000000000000001}\n",
                        "Mejores hiperparámetros: {'fit_prior': False, 'class_prior': None, 'alpha': 4.000000000000003}\n",
                        "Accuracy score for Train: 0.9241573033707865\n",
                        "Accuracy score for Test: 0.8324022346368715\n",
                        "Train/Test difference: 0.09175506873391504\n"
                    ]
                }
            ],
            "source": [
                "# Realizar la búsqueda aleatoria con diferentes random_state\n",
                "num_iterations = 40\n",
                "results = []\n",
                "\n",
                "for i in range(num_iterations):\n",
                "    random_state = np.random.randint(1, 100)\n",
                "    random_search = RandomizedSearchCV(multinomial, hyperparams, n_iter=100, cv=5, scoring=\"accuracy\", random_state=random_state)\n",
                "    random_search.fit(X_train, y_train)\n",
                "    \n",
                "    best_hyper = random_search.best_params_\n",
                "    print(f\"Iteration {i + 1} - Mejores hiperparámetros: {best_hyper}\")\n",
                "\n",
                "    results.append((best_hyper, random_search.best_score_))\n",
                "\n",
                "# Seleccionar el mejor conjunto de hiperparámetros basado en el rendimiento promedio de validación cruzada\n",
                "best_hyper, _ = max(results, key=lambda x: x[1])\n",
                "print(f\"Mejores hiperparámetros: {best_hyper}\")\n",
                "\n",
                "# Entrenar el modelo final con los mejores hiperparámetros\n",
                "final_model = MultinomialNB(**best_hyper)\n",
                "final_model.fit(X_train, y_train)\n",
                "\n",
                "# Evaluar en conjunto de prueba\n",
                "y_pred_train = final_model.predict(X_train)\n",
                "train_accuracy = accuracy_score(y_train, y_pred_train)\n",
                "print(f\"Accuracy score for Train: {train_accuracy}\")\n",
                "\n",
                "y_pred_test = final_model.predict(X_test)\n",
                "test_accuracy = accuracy_score(y_test, y_pred_test)\n",
                "print(f\"Accuracy score for Test: {test_accuracy}\")\n",
                "\n",
                "# Calcular y mostrar la diferencia entre el conjunto de entrenamiento y prueba\n",
                "difference = train_accuracy - test_accuracy\n",
                "print(f\"Train/Test difference: {difference}\")\n"
            ]
        }
    ],
    "metadata": {
        "kernelspec": {
            "display_name": "Python 3.8.13 64-bit ('3.8.13')",
            "language": "python",
            "name": "python3"
        },
        "language_info": {
            "codemirror_mode": {
                "name": "ipython",
                "version": 3
            },
            "file_extension": ".py",
            "mimetype": "text/x-python",
            "name": "python",
            "nbconvert_exporter": "python",
            "pygments_lexer": "ipython3",
            "version": "3.11.4"
        },
        "orig_nbformat": 4,
        "vscode": {
            "interpreter": {
                "hash": "110cc1dee26208153f2972f08a2ad52b6a56238dc66d48e87fb757ef2996db56"
            }
        }
    },
    "nbformat": 4,
    "nbformat_minor": 2
}

{
    "cells": [
        {
            "cell_type": "markdown",
            "metadata": {},
            "source": [
                "# Import Libraries"
            ]
        },
        {
            "cell_type": "code",
            "execution_count": 1,
            "metadata": {},
            "outputs": [],
            "source": [
                "import requests\n",
                "import os\n",
                "import sklearn\n",
                "import pandas as pd\n",
                "from sklearn.model_selection import train_test_split\n",
                "from sklearn.feature_extraction.text import CountVectorizer\n",
                "from sklearn.naive_bayes import MultinomialNB, GaussianNB, BernoulliNB\n",
                "from pickle import dump\n",
                "from sklearn.metrics import accuracy_score\n",
                "import numpy as np \n",
                "from sklearn.model_selection import GridSearchCV, RandomizedSearchCV, cross_val_score\n",
                "import nltk\n",
                "from nltk.corpus import stopwords\n",
                "from sklearn.metrics import confusion_matrix, ConfusionMatrixDisplay\n",
                "import warnings\n",
                "import random"
            ]
        },
        {
            "cell_type": "markdown",
            "metadata": {},
            "source": [
                "# Import Data"
            ]
        },
        {
            "cell_type": "code",
            "execution_count": 2,
            "metadata": {},
            "outputs": [],
            "source": [
                "# URL of the CSV file\n",
                "url = \"https://raw.githubusercontent.com/4GeeksAcademy/naive-bayes-project-tutorial/main/playstore_reviews.csv\"\n",
                "\n",
                "# Destination file name\n",
                "file_name = \"comments.csv\"\n",
                "\n",
                "# Full path to the working directory\n",
                "working_directory = \"/workspaces/alfonsoMG_naive_bayes/data/raw/\"\n",
                "\n",
                "# Full path to the destination CSV file\n",
                "file_path = os.path.join(working_directory, file_name)\n",
                "\n",
                "# Download the CSV file from the URL\n",
                "response = requests.get(url)\n",
                "\n",
                "with open(file_path, 'wb') as file:\n",
                "    file.write(response.content)"
            ]
        },
        {
            "cell_type": "markdown",
            "metadata": {},
            "source": [
                "# Data Cleaning"
            ]
        },
        {
            "cell_type": "markdown",
            "metadata": {},
            "source": [
                "In the process of implementing a Naive Bayes machine learning model for classifying comments as either negative or non-negative, the initial step following the importation of the .csv file involves a meticulous data cleaning phase. During this process, my focus will be on selectively retaining only those words deemed relevant for analysis, while excluding any symbols, numbers, or words with fewer than 3 letters.\n",
                "\n",
                "This cleansing step is crucial to ensure the quality of the data used in training the model. By eliminating redundant or irrelevant information, I aim to ensure that the model concentrates on the fundamental aspects of the comments. This, in turn, should enhance its ability to discern between negative and non-negative comments more accurately and effectively."
            ]
        },
        {
            "cell_type": "code",
            "execution_count": 3,
            "metadata": {},
            "outputs": [
                {
                    "data": {
                        "text/html": [
                            "<div>\n",
                            "<style scoped>\n",
                            "    .dataframe tbody tr th:only-of-type {\n",
                            "        vertical-align: middle;\n",
                            "    }\n",
                            "\n",
                            "    .dataframe tbody tr th {\n",
                            "        vertical-align: top;\n",
                            "    }\n",
                            "\n",
                            "    .dataframe thead th {\n",
                            "        text-align: right;\n",
                            "    }\n",
                            "</style>\n",
                            "<table border=\"1\" class=\"dataframe\">\n",
                            "  <thead>\n",
                            "    <tr style=\"text-align: right;\">\n",
                            "      <th></th>\n",
                            "      <th>package_name</th>\n",
                            "      <th>review</th>\n",
                            "      <th>polarity</th>\n",
                            "    </tr>\n",
                            "  </thead>\n",
                            "  <tbody>\n",
                            "    <tr>\n",
                            "      <th>0</th>\n",
                            "      <td>com.facebook.katana</td>\n",
                            "      <td>privacy at least put some option appear offli...</td>\n",
                            "      <td>0</td>\n",
                            "    </tr>\n",
                            "    <tr>\n",
                            "      <th>1</th>\n",
                            "      <td>com.facebook.katana</td>\n",
                            "      <td>messenger issues ever since the last update, ...</td>\n",
                            "      <td>0</td>\n",
                            "    </tr>\n",
                            "    <tr>\n",
                            "      <th>2</th>\n",
                            "      <td>com.facebook.katana</td>\n",
                            "      <td>profile any time my wife or anybody has more ...</td>\n",
                            "      <td>0</td>\n",
                            "    </tr>\n",
                            "    <tr>\n",
                            "      <th>3</th>\n",
                            "      <td>com.facebook.katana</td>\n",
                            "      <td>the new features suck for those of us who don...</td>\n",
                            "      <td>0</td>\n",
                            "    </tr>\n",
                            "    <tr>\n",
                            "      <th>4</th>\n",
                            "      <td>com.facebook.katana</td>\n",
                            "      <td>forced reload on uploading pic on replying co...</td>\n",
                            "      <td>0</td>\n",
                            "    </tr>\n",
                            "  </tbody>\n",
                            "</table>\n",
                            "</div>"
                        ],
                        "text/plain": [
                            "          package_name                                             review  \\\n",
                            "0  com.facebook.katana   privacy at least put some option appear offli...   \n",
                            "1  com.facebook.katana   messenger issues ever since the last update, ...   \n",
                            "2  com.facebook.katana   profile any time my wife or anybody has more ...   \n",
                            "3  com.facebook.katana   the new features suck for those of us who don...   \n",
                            "4  com.facebook.katana   forced reload on uploading pic on replying co...   \n",
                            "\n",
                            "   polarity  \n",
                            "0         0  \n",
                            "1         0  \n",
                            "2         0  \n",
                            "3         0  \n",
                            "4         0  "
                        ]
                    },
                    "execution_count": 3,
                    "metadata": {},
                    "output_type": "execute_result"
                }
            ],
            "source": [
                "# Path to the CSV file\n",
                "csv_path = \"/workspaces/alfonsoMG_naive_bayes/data/raw/comments.csv\"\n",
                "\n",
                "# Read the CSV file into a pandas DataFrame\n",
                "df = pd.read_csv(csv_path)\n",
                "\n",
                "# Display the first few rows of the DataFrame\n",
                "df.head()"
            ]
        },
        {
            "cell_type": "code",
            "execution_count": 4,
            "metadata": {},
            "outputs": [
                {
                    "data": {
                        "text/html": [
                            "<div>\n",
                            "<style scoped>\n",
                            "    .dataframe tbody tr th:only-of-type {\n",
                            "        vertical-align: middle;\n",
                            "    }\n",
                            "\n",
                            "    .dataframe tbody tr th {\n",
                            "        vertical-align: top;\n",
                            "    }\n",
                            "\n",
                            "    .dataframe thead th {\n",
                            "        text-align: right;\n",
                            "    }\n",
                            "</style>\n",
                            "<table border=\"1\" class=\"dataframe\">\n",
                            "  <thead>\n",
                            "    <tr style=\"text-align: right;\">\n",
                            "      <th></th>\n",
                            "      <th>review</th>\n",
                            "      <th>polarity</th>\n",
                            "    </tr>\n",
                            "  </thead>\n",
                            "  <tbody>\n",
                            "    <tr>\n",
                            "      <th>0</th>\n",
                            "      <td>privacy at least put some option appear offli...</td>\n",
                            "      <td>0</td>\n",
                            "    </tr>\n",
                            "    <tr>\n",
                            "      <th>1</th>\n",
                            "      <td>messenger issues ever since the last update, ...</td>\n",
                            "      <td>0</td>\n",
                            "    </tr>\n",
                            "    <tr>\n",
                            "      <th>2</th>\n",
                            "      <td>profile any time my wife or anybody has more ...</td>\n",
                            "      <td>0</td>\n",
                            "    </tr>\n",
                            "    <tr>\n",
                            "      <th>3</th>\n",
                            "      <td>the new features suck for those of us who don...</td>\n",
                            "      <td>0</td>\n",
                            "    </tr>\n",
                            "    <tr>\n",
                            "      <th>4</th>\n",
                            "      <td>forced reload on uploading pic on replying co...</td>\n",
                            "      <td>0</td>\n",
                            "    </tr>\n",
                            "  </tbody>\n",
                            "</table>\n",
                            "</div>"
                        ],
                        "text/plain": [
                            "                                              review  polarity\n",
                            "0   privacy at least put some option appear offli...         0\n",
                            "1   messenger issues ever since the last update, ...         0\n",
                            "2   profile any time my wife or anybody has more ...         0\n",
                            "3   the new features suck for those of us who don...         0\n",
                            "4   forced reload on uploading pic on replying co...         0"
                        ]
                    },
                    "execution_count": 4,
                    "metadata": {},
                    "output_type": "execute_result"
                }
            ],
            "source": [
                "# Drop the \"package_name\" column from the DataFrame\n",
                "df.drop(\"package_name\", axis=1, inplace=True)\n",
                "\n",
                "# Display the first few rows of the modified DataFrame\n",
                "df.head()"
            ]
        },
        {
            "cell_type": "code",
            "execution_count": 5,
            "metadata": {},
            "outputs": [
                {
                    "data": {
                        "text/plain": [
                            "0     privacy least put some option appear offline m...\n",
                            "1     messenger issues ever since the last update in...\n",
                            "2     profile any time wife anybody has more than on...\n",
                            "3     the new features suck for those who have worki...\n",
                            "4     forced reload uploading pic replying comment l...\n",
                            "5     idk edit posts things such profile picture whe...\n",
                            "6     major flaws constant updates and always gettin...\n",
                            "7     video issues since was forced into this update...\n",
                            "8     this update completely destroyed facebook load...\n",
                            "9     posting issues for the last week been ghost po...\n",
                            "10    what the heck get status updates chronological...\n",
                            "11    its suck any time when want see something erro...\n",
                            "12    connection issues everytime try and click link...\n",
                            "13    external links are not working after updated l...\n",
                            "14    fix this please tried editing two profile pict...\n",
                            "15    buggy when edit post through the mobile app th...\n",
                            "16    connection issues app always says refresh now ...\n",
                            "17    get back facebook email thats wrong password m...\n",
                            "18    connect right now when trying open links the f...\n",
                            "19    error cannot edit post with pictures the momen...\n",
                            "20    whenever post update and then try edit when hi...\n",
                            "21    keeps updating updates all the time slows phon...\n",
                            "22    load everytime try use facebook well lately sa...\n",
                            "23    wish posts popped the order they were posted a...\n",
                            "24    buggy reinstall several times issues editing u...\n",
                            "25    install error code have samsung galaxy note ed...\n",
                            "26    not supported phon galaxy core have been use f...\n",
                            "27    work the time update news feed says cannot con...\n",
                            "28    you should fix this work anymore know what bec...\n",
                            "29    let click into anything always tells check con...\n",
                            "30    work every time try sign says processes regist...\n",
                            "31    showing old news why showing that someone resp...\n",
                            "32    have had uninstall this app twice this week be...\n",
                            "33    profile issues samsung galaxy active every tim...\n",
                            "34    camera roll please can you stop the camera rol...\n",
                            "35    not good its previous version much good than t...\n",
                            "36    update uninstalls everytime try update uninsta...\n",
                            "37    used good everything was great until updated t...\n",
                            "38    send read message from facebook because the me...\n",
                            "39    app work after latest upgrade the facebook app...\n",
                            "Name: review, dtype: object"
                        ]
                    },
                    "execution_count": 5,
                    "metadata": {},
                    "output_type": "execute_result"
                }
            ],
            "source": [
                "# Preprocess the \"review\" column\n",
                "df[\"review\"] = df[\"review\"].str.lower().replace('[^\\w\\s\\']', ' ', regex=True).str.split().apply(\n",
                "    lambda x: ' '.join(filter(lambda word: word.isalpha() and len(word) > 2, x))\n",
                ")\n",
                "\n",
                "# Display the preprocessed \"review\" column for the first 40 rows\n",
                "df[\"review\"].head(40)"
            ]
        },
        {
            "cell_type": "markdown",
            "metadata": {},
            "source": [
                "# Feature Selection"
            ]
        },
        {
            "cell_type": "markdown",
            "metadata": {},
            "source": [
                "Following this, we will carry out the partitioning of our dataset into training and testing sets in preparation for model implementation. We have identified three primary alternatives for the Naive Bayes algorithm, and our approach involves applying our dataset to all three options. The intention is to compare the outcomes derived from each alternative comprehensively, enabling us to make informed decisions and take appropriate actions based on the observed results. This comparative analysis across multiple Naive Bayes models will contribute to a more robust understanding of how each variant performs in the context of our specific data, allowing us to select the most effective model for our classification task."
            ]
        },
        {
            "cell_type": "code",
            "execution_count": 6,
            "metadata": {},
            "outputs": [
                {
                    "data": {
                        "text/plain": [
                            "68     after observation all above things should hate...\n",
                            "768                            errors and bugs app error\n",
                            "722    still not cool guys please this still not cool...\n",
                            "94     facebook ripoff used see connections new conne...\n",
                            "640    too many useless features does anybody actuall...\n",
                            "Name: review, dtype: object"
                        ]
                    },
                    "execution_count": 6,
                    "metadata": {},
                    "output_type": "execute_result"
                }
            ],
            "source": [
                "# Features (X) and target variable (y)\n",
                "X = df[\"review\"]\n",
                "y = df[\"polarity\"]\n",
                "\n",
                "# Split the data into training and testing sets\n",
                "X_train, X_test, y_train, y_test = train_test_split(X, y, test_size=0.2, random_state=24)\n",
                "\n",
                "# Display the first few rows of the training set features\n",
                "X_train.head()"
            ]
        },
        {
            "cell_type": "code",
            "execution_count": 7,
            "metadata": {},
            "outputs": [],
            "source": [
                "X_train.to_csv(\"/workspaces/alfonsoMG_naive_bayes/data/processed/X_train.csv\")\n",
                "X_test.to_csv(\"/workspaces/alfonsoMG_naive_bayes/data/processed/X_test.csv\")\n",
                "y_train.to_csv(\"/workspaces/alfonsoMG_naive_bayes/data/processed/y_train.csv\")\n",
                "y_test.to_csv(\"/workspaces/alfonsoMG_naive_bayes/data/processed/y_test.csv\")"
            ]
        },
        {
            "cell_type": "markdown",
            "metadata": {},
            "source": [
                "# Model Training"
            ]
        },
        {
            "cell_type": "code",
            "execution_count": 8,
            "metadata": {},
            "outputs": [
                {
                    "name": "stderr",
                    "output_type": "stream",
                    "text": [
                        "[nltk_data] Downloading package stopwords to /home/vscode/nltk_data...\n",
                        "[nltk_data]   Package stopwords is already up-to-date!\n"
                    ]
                }
            ],
            "source": [
                "# Download the NLTK stopwords for English\n",
                "nltk.download('stopwords')\n",
                "\n",
                "# Create a list of stopwords\n",
                "stop_words = list(stopwords.words('english'))\n",
                "\n",
                "# Initialize CountVectorizer with stop_words\n",
                "vec_model = CountVectorizer(stop_words=stop_words)\n",
                "\n",
                "# Convert the training set text data into a bag-of-words representation\n",
                "X_train = vec_model.fit_transform(X_train).toarray()\n",
                "\n",
                "# Convert the testing set text data into a bag-of-words representation\n",
                "X_test = vec_model.transform(X_test).toarray()"
            ]
        },
        {
            "cell_type": "code",
            "execution_count": 9,
            "metadata": {},
            "outputs": [],
            "source": [
                "# Suppress specific FutureWarnings\n",
                "warnings.simplefilter(action='ignore', category=FutureWarning)\n",
                "\n",
                "# Suppress specific UserWarnings\n",
                "warnings.simplefilter(action='ignore', category=UserWarning)\n",
                "\n",
                "# Suppress FitFailedWarning from scikit-learn\n",
                "warnings.filterwarnings(\"ignore\", category=sklearn.exceptions.FitFailedWarning)"
            ]
        },
        {
            "cell_type": "code",
            "execution_count": 10,
            "metadata": {},
            "outputs": [
                {
                    "name": "stdout",
                    "output_type": "stream",
                    "text": [
                        "Gaussian Train Accuracy: 0.9859550561797753\n",
                        "Gaussian Test Accuracy: 0.7597765363128491\n",
                        "Gaussian Accuracy Difference: 0.22617851986692616\n",
                        "\n",
                        "Multinomial Train Accuracy: 0.9564606741573034\n",
                        "Multinomial Test Accuracy: 0.8659217877094972\n",
                        "Multinomial Accuracy Difference: 0.09053888644780617\n",
                        "\n",
                        "Bernoulli Train Accuracy: 0.9213483146067416\n",
                        "Bernoulli Test Accuracy: 0.7486033519553073\n",
                        "Bernoulli Accuracy Difference: 0.17274496265143435\n",
                        "\n",
                        "The best model is: Multinomial with the smallest difference (0.0905) between train and test accuracy.\n"
                    ]
                }
            ],
            "source": [
                "models = [\n",
                "    (GaussianNB(), \"Gaussian\"),\n",
                "    (MultinomialNB(), \"Multinomial\"),\n",
                "    (BernoulliNB(), \"Bernoulli\")\n",
                "]\n",
                "\n",
                "min_difference = float('inf')\n",
                "best_model_name = ''\n",
                "\n",
                "for model, name in models:\n",
                "    model.fit(X_train, y_train)\n",
                "    \n",
                "    # Save the trained model to a file\n",
                "    model_file = f\"/workspaces/alfonsoMG_naive_bayes/models/model_{name.lower()}.pk\"\n",
                "    dump(model, open(model_file, \"wb\"))\n",
                "\n",
                "    # Evaluate and print training accuracy\n",
                "    y_pred_train = model.predict(X_train)\n",
                "    train_accuracy = accuracy_score(y_train, y_pred_train)\n",
                "    print(f\"{name} Train Accuracy: {train_accuracy}\")\n",
                "\n",
                "    # Evaluate and print testing accuracy\n",
                "    y_pred_test = model.predict(X_test)\n",
                "    test_accuracy = accuracy_score(y_test, y_pred_test)\n",
                "    print(f\"{name} Test Accuracy: {test_accuracy}\")\n",
                "\n",
                "    # Calculate and print accuracy difference\n",
                "    accuracy_difference = abs(train_accuracy - test_accuracy)\n",
                "    print(f\"{name} Accuracy Difference: {accuracy_difference}\\n\")\n",
                "\n",
                "    # Update best model information if the current model has a smaller difference\n",
                "    if accuracy_difference < min_difference:\n",
                "        min_difference = accuracy_difference\n",
                "        best_model_name = name\n",
                "\n",
                "# Print the best model information\n",
                "print(f\"The best model is: {best_model_name} with the smallest difference ({min_difference:.4f}) between train and test accuracy.\")"
            ]
        },
        {
            "cell_type": "markdown",
            "metadata": {},
            "source": [
                "# Optimization"
            ]
        },
        {
            "cell_type": "markdown",
            "metadata": {},
            "source": [
                "In the next step, we will perform a grid search across hyperparameters to address the issue of overfitting and/or enhance accuracy. This systematic exploration of hyperparameter combinations aims to fine-tune the model's performance, seeking optimal parameter values that contribute to mitigating overfitting while potentially improving overall accuracy. Grid search allows us to exhaustively evaluate various hyperparameter configurations, providing insights into the parameter values that yield the best results for our specific machine learning task. The ultimate goal is to optimize the model's generalization to new data and achieve better predictive performance."
            ]
        },
        {
            "cell_type": "code",
            "execution_count": 11,
            "metadata": {},
            "outputs": [
                {
                    "name": "stdout",
                    "output_type": "stream",
                    "text": [
                        "The accuracy score for Train is : 0.9424157303370787\n",
                        "The accuracy score for Test is : 0.8659217877094972\n",
                        "Train/Test difference: 0.07649394262758147\n"
                    ]
                }
            ],
            "source": [
                "# Define hyperparameter grid\n",
                "hyperparams = {\n",
                "    \"alpha\": [0] + list(np.arange(1.0, 10, 0.1)),  \n",
                "    \"fit_prior\": [True, False],\n",
                "    \"class_prior\": [None, np.arange(0.1, 1, 10)]\n",
                "}\n",
                "\n",
                "# Initialize Multinomial Naive Bayes model\n",
                "multinomial = MultinomialNB()\n",
                "\n",
                "# Perform GridSearchCV to find the best hyperparameters\n",
                "grid = GridSearchCV(multinomial, hyperparams, scoring='accuracy', cv=5)\n",
                "grid.fit(X_train, y_train)\n",
                "\n",
                "# Get the best hyperparameters\n",
                "best_hyper = grid.best_params_\n",
                "\n",
                "# Initialize the best Multinomial Naive Bayes model with the optimal hyperparameters\n",
                "best_model = MultinomialNB(**best_hyper)\n",
                "best_model.fit(X_train, y_train)\n",
                "\n",
                "# Evaluate and print the accuracy score for the training set\n",
                "y_pred_train = best_model.predict(X_train)\n",
                "train_score = accuracy_score(y_train, y_pred_train)\n",
                "print(f\"The accuracy score for Train is : {train_score}\")\n",
                "\n",
                "# Evaluate and print the accuracy score for the testing set\n",
                "y_pred_test = best_model.predict(X_test)\n",
                "test_score = accuracy_score(y_test, y_pred_test)\n",
                "print(f\"The accuracy score for Test is : {test_score}\")\n",
                "\n",
                "# Print the difference between training and testing accuracy\n",
                "print(f\"Train/Test difference: {train_score - test_score}\")\n",
                "\n",
                "# Save the optimized Multinomial Naive Bayes model to a file\n",
                "dump(best_model, open(f\"/workspaces/alfonsoMG_naive_bayes/models/opt_multinomial.pk\", \"wb\"))\n"
            ]
        },
        {
            "cell_type": "markdown",
            "metadata": {},
            "source": [
                "### *Confusion Matrix*"
            ]
        },
        {
            "cell_type": "markdown",
            "metadata": {},
            "source": [
                "To conclude the project, I have visually represented the confusion matrix, which provides insights into both true positives and negatives, as well as false positives and negatives. This matrix serves as a comprehensive summary of the model's performance, allowing us to assess how well it has correctly classified instances and where potential misclassifications may have occurred. By examining the elements of the confusion matrix, we can gain a clear understanding of the model's strengths and weaknesses, particularly in distinguishing between positive and negative instances. This visual representation will serve as a valuable tool for the final evaluation of the Naive Bayes models and inform any necessary adjustments or conclusions drawn from the project."
            ]
        },
        {
            "cell_type": "code",
            "execution_count": 12,
            "metadata": {},
            "outputs": [
                {
                    "data": {
                        "text/plain": [
                            "<sklearn.metrics._plot.confusion_matrix.ConfusionMatrixDisplay at 0x7f44ff84da10>"
                        ]
                    },
                    "execution_count": 12,
                    "metadata": {},
                    "output_type": "execute_result"
                },
                {
                    "data": {
                        "image/png": "[encoded data removed]",
                        "text/plain": [
                            "<Figure size 640x480 with 2 Axes>"
                        ]
                    },
                    "metadata": {},
                    "output_type": "display_data"
                }
            ],
            "source": [
                "# Calculate the confusion matrix\n",
                "cm = confusion_matrix(y_test, y_pred_test)\n",
                "\n",
                "# Visualize the confusion matrix\n",
                "disp = ConfusionMatrixDisplay(confusion_matrix=cm, display_labels=best_model.classes_)\n",
                "disp.plot()\n"
            ]
        },
        {
            "cell_type": "markdown",
            "metadata": {},
            "source": [
                "# Conclusion"
            ]
        },
        {
            "cell_type": "markdown",
            "metadata": {},
            "source": [
                "My conclusion revolves primarily around the issue of overfitting. It is well-known that overfitting is a concern, and therefore, the objective should be to mitigate it. In this case, despite achieving relatively high results in both training and testing, a significant overfitting challenge persists. While you've made strides in reducing and improving overfitting through hyperparameter optimization, it seems that further improvement is still needed. Instead of solely continuing to fine-tune hyperparameters, considering a review of the data cleaning process might be worthwhile.\n",
                "\n",
                "Given that this project serves educational purposes, you've decided to move on to the next project for now. It's a strategic decision to explore different aspects and challenges in subsequent projects, possibly gaining new insights that could be applied to revisit and enhance the current Naive Bayes classification project in the future."
            ]
        }
    ],
    "metadata": {
        "kernelspec": {
            "display_name": "Python 3.8.13 64-bit ('3.8.13')",
            "language": "python",
            "name": "python3"
        },
        "language_info": {
            "codemirror_mode": {
                "name": "ipython",
                "version": 3
            },
            "file_extension": ".py",
            "mimetype": "text/x-python",
            "name": "python",
            "nbconvert_exporter": "python",
            "pygments_lexer": "ipython3",
            "version": "3.11.4"
        },
        "orig_nbformat": 4,
        "vscode": {
            "interpreter": {
                "hash": "110cc1dee26208153f2972f08a2ad52b6a56238dc66d48e87fb757ef2996db56"
            }
        }
    },
    "nbformat": 4,
    "nbformat_minor": 2
}
